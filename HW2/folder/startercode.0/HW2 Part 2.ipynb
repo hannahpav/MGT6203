{
    "cells": [
        {
            "cell_type": "markdown",
            "metadata": {
                "nbgrader": {
                    "grade": false,
                    "locked": true,
                    "solution": false
                },
                "editable": false,
                "deletable": false
            },
            "source": [
                "# MGT6203 HW2 Part 2 "
            ]
        },
        {
            "cell_type": "markdown",
            "metadata": {
                "nbgrader": {
                    "grade": false,
                    "locked": true,
                    "solution": false
                },
                "editable": false,
                "deletable": false
            },
            "source": [
                "## Instructions:\n",
                "\n",
                "\n",
                "**For Homework 2 Part 2, please use this Jupyter notebook in Vocareum to submit your solutions.** Vocareum is an educational cloud platform for programming in several languages; it is based on the Jupyter notebook environment. This platform allows us to move homework assignments to the cloud. The advantages are that all of you will be working in the same coding environment AND peer reviewers will be able to run your R code easily. This way we eliminate some issues we might encounter when working on an individual\/local basis, such as library installations and Rstudio OS requirements; Jupyter notebooks work on mobile platforms and tablets.\n",
                "\n",
                "With Jupyter notebooks, you will be learning a new way of presenting data analysis reports, that is neat and flexible, where formatted English text and R code can easily coexist on the same page. Notebooks can be also collaborative when needed. Think of Jupyter notebooks as interactive program-based Google docs or MS-Office 360 docs; these are gradually replacing local files on our computers. **For now, we are asking each of you to do your own homework.**\n",
                "\n",
                "**Many of you are new to the Jupyter notebooks and Vocareum platforms. We will provide TA help in Piazza with specific code if you have questions. ** \n",
                "\n",
                "Here we list some important things to get you started. Please read carefully.\n",
                "\n",
                "\n",
                "\n",
                "<ol>\n",
                "<li>Even though we are moving from your local envrionment to the cloud, **our expectations from your homework will remain the same**. Same goes for the rubrics.<\/li>\n",
                "\n",
                "<li>Vocareum has its own cloud based file system, the data files you will be using for the assignments will be stored in the cloud with path **\"..\/resource\/asnlib\/publicdata\/FILENAME.csv\"**. You will be able to import them with the same method as you do in RStudio, simply substitute the path name to the one specified in the instructions. You won't be able to modify these data files.<\/li>\n",
                "\n",
                "<li>You will be able to find the data files on Canvas\/EdX if you would like to explore them offline.<\/li>\n",
                "\n",
                "<li>**For coding questions, you will be graded on the R code as well as the output** in your submission.<\/li>\n",
                "\n",
                "<li>**For interpretations or short response questions, please type the answers in the notebook's markdown cells**. To change a code cell to a markdown cell, click on the cell, and in the dropdown menu above, switch the type of the cell block from \"code\" to \"markdown\". **Adding print statements to code cells for short response\/interpretation questions is also fine, as long as we can clearly see the output of your response**.<\/li>\n",
                "\n",
                "<li>Optional: if you would like to learn more about how to format your markdown cells, visit the following site: https:\/\/www.earthdatascience.org\/courses\/intro-to-earth-data-science\/file-formats\/use-text-files\/format-text-with-markdown-jupyter-notebook\/. Jupyter notebook also supports LaTeX.<\/li>\n",
                "\n",
                "<li>**Feel free to delete or add as many additional cells as you need**. But please try to keep your notebook clean and keep your solution directly under its respective question to avoid confusion.<\/li>\n",
                "\n",
                "<li>You may delete the `#SOLUTION BEGINS\/ENDS HERE` comments from the cell blocks, they are just pointers that indicate where to put your solutions.<\/li>\n",
                "\n",
                "<li>**When you have finished the assignment, remember to rerun your notebook to check if it runs correctly.** You can do so by going to **`Kernel`-> `Restart & Run All`**. You may lose points if your solutions do not run successfully.<\/li>\n",
                "\n",
                "<li>**Click the \"`Submit`\" button on the top right corner to turn in your assignment**. Your assignment will enter the next phase for peer review.<\/li>\n",
                "\n",
                "<li>**You are allowed up to <u>2 submissions<\/u> for this assignment.** Please ensure your responses are carefully reviewed before submitting. You may resubmit your work anytime before the peer review period starts. Remember, only your most recent submission will be graded. If you submit twice, the second submission will be the one evaluated.\n",
                "<\/li>\n",
                "\n",
                "<li>**Please remember to finish the peer reviews after having submitted your assignment.** You are responsible for grading the work of three of your peers thoroughly, and in addherence to the rubrics. And you will be held accountable for peer grading. **There will be a <u>30% penalty<\/u> to your grade if you fail to complete one or more peer reviews properly.**<\/li>\n",
                "\n",
                "<li>Feel free to address your questions, concerns, and provide any feedback on Piazza. We will continuously try to improve going forward.<\/li>\n",
                "\n",
                "<li>Good Luck!<\/li>\n",
                "\n",
                "<\/ol>"
            ]
        },
        {
            "cell_type": "markdown",
            "metadata": {
                "nbgrader": {
                    "grade": false,
                    "locked": true,
                    "solution": false
                },
                "editable": false,
                "deletable": false
            },
            "source": [
                "# About Package Installation:\n",
                "\n",
                "Most of the packages (if not all) that you will need to complete this assignment are already installed in this environment. An easy way to check this is to run the command: `library(PackageName)`. If this command runs successfully then the package was already installed and has been successfully attached to the code. If the command gave an error saying the Package was not found then follow the steps below to successfully install the package and attach it to the code: \n",
                "\n",
                "- Use `installed.packages()` command to return a table of the packages that are preinstalled in the environment.\n",
                "\n",
                "- To attach a preinstalled library in Vocareum, simply use `library(PackageName)`\n",
                "\n",
                "- **To install a package that does not come with the provided environment, please use the following steps:**\n",
                "    \n",
                "<ol>\n",
                "<li>Install your desired package using the following code:<\/li>\n",
                "     <ul>\n",
                "         <li>`install.packages(\"PackageName\", lib=\"..\/work\/\")`<\/li>\n",
                "     <\/ul>\n",
                "<li> Attach the library you just installed using the following code: <\/li>\n",
                "    <ul>\n",
                "        <li>`library(PackageName, lib.loc = \"..\/work\/\")`<\/li>\n",
                "        <li> **NOTE:** Make sure the file location is the same as the above code snippets `(\"..\/work\/\")` <\/li>\n",
                "    <\/ul>\n",
                "<\/ol>"
            ]
        },
        {
            "cell_type": "markdown",
            "metadata": {
                "nbgrader": {
                    "grade": false,
                    "locked": true,
                    "solution": false
                },
                "editable": false,
                "deletable": false
            },
            "source": [
                "## Question 1. Company ABC (24 Points Total)\n",
                "\n",
                "Use the Dataset, `product_sales.csv` to  answer Question 1. This dataset tracks monthly sales for two similar products from company ABC, TechPad and ElectroTab. After observing initial sales, a major software update  was provided to \"ElectroTab\" product. The dataset has the folllowing columns:\n",
                "\n",
                "- **`month`**: Number of months since the start of data collection..\n",
                "- **`product`**: Indicates the product type ('TechPad' or 'ElectroTab').\n",
                "- **`sales_volume`**: Number of units sold in the given month.\n",
                "- **`post_update`**: Indicates whether the data is before (0) or after (1) a significant product update for 'ElectroTab'.\n",
                "\n",
                "Our goal is to use the company's data to analyze the differences in monthly sales of these products before and after the software update.\n"
            ]
        },
        {
            "cell_type": "markdown",
            "metadata": {
                "nbgrader": {
                    "grade": false,
                    "locked": true,
                    "solution": false
                },
                "editable": false,
                "deletable": false
            },
            "source": [
                "### 1A.  Classify the sales into four groups (6 Points)\n",
                "\n",
                "- Assign the corresponding group with the group title (A,B,C, and D) where the group titles are as follows: \n",
                "\n",
                "| |Before|After|\n",
                "|------|------|------|\n",
                "|TechPad (control group)|A|C|\n",
                "|ElectroTab (treatment group)|B|D|\n",
                "\n",
                "- **Note:** This is a theoretical question; you just need to identify each group with a short description of what the group is. Eg. what group does A represent?\n",
                "- You **don\u2019t** need to create a column categorizing the datapoints into groups."
            ]
        },
        {
            "cell_type": "markdown",
            "metadata": {
                "collapsed": true
            },
            "source": [
                "###### SOLUTION BEGINS HERE\n",
                "\n",
                "A:\n",
                "\n",
                "B:\n",
                "\n",
                "C:\n",
                "\n",
                "D:\n",
                "\n",
                "\n",
                "###### SOLUTION ENDS HERE"
            ]
        },
        {
            "cell_type": "markdown",
            "metadata": {
                "nbgrader": {
                    "grade": false,
                    "locked": true,
                    "solution": false
                },
                "editable": false,
                "deletable": false
            },
            "source": [
                "### 1B. Calculate the mean of the 'sales_volume' variable for each of the four groups. (6 Points)\n",
                "\n",
                "- Print the result for each group. \n",
                "- Round your answers to two decimal places, for example, `XX.xx`."
            ]
        },
        {
            "cell_type": "code",
            "execution_count": 1,
            "metadata": {
                "nbgrader": {
                    "grade": false,
                    "locked": true,
                    "solution": false
                },
                "editable": false,
                "deletable": false
            },
            "outputs": [],
            "source": [
                "# Read the dataset\n",
                "product_sales = read.csv(\"..\/resource\/asnlib\/publicdata\/product_sales.csv\")\n",
                "\n",
                "# Load library\n",
                "library(dplyr)\n",
                "str(product_sales)"
            ]
        },
        {
            "cell_type": "code",
            "execution_count": 3,
            "metadata": {
                "collapsed": true,
                "nbgrader": {
                    "grade": false,
                    "locked": false,
                    "solution": false
                }
            },
            "outputs": [],
            "source": [
                "# SOLUTION BEGINS HERE\n",
                "\n",
                "\n",
                "\n",
                "\n",
                "\n",
                "# SOLUTION ENDS HERE"
            ]
        },
        {
            "cell_type": "markdown",
            "metadata": {
                "nbgrader": {
                    "grade": false,
                    "locked": true,
                    "solution": false
                },
                "editable": false,
                "deletable": false
            },
            "source": [
                "### 1C. Estimate Difference-in-Differences (DiD) (6 Points): \n",
                "- Assume `TechPad` represents the control group and `ElectroTab` represents the treatment group.\n",
                "- Use the averages calculated in part 1B to estimate the value of DiD.\n",
                "- Round your answers to two decimal places, for example, `XX.xx`."
            ]
        },
        {
            "cell_type": "code",
            "execution_count": 4,
            "metadata": {
                "collapsed": true
            },
            "outputs": [],
            "source": [
                "# SOLUTION BEGINS HERE\n",
                "\n",
                "\n",
                "\n",
                "\n",
                "\n",
                "# SOLUTION ENDS HERE"
            ]
        },
        {
            "cell_type": "markdown",
            "metadata": {
                "nbgrader": {
                    "grade": false,
                    "locked": true,
                    "solution": false
                },
                "editable": false,
                "deletable": false
            },
            "source": [
                "### 1D.  Estimate DiD with Linear Regression  (6 Points):\n",
                "\n",
                "- Interpret the DiD in the context of this problem. \n",
                "- Round your answers to two decimal places, for example, `XX.xx`.\n",
                "- **Hint:** Check with your answer from Part 1C; the two methods should reach the same DiD."
            ]
        },
        {
            "cell_type": "code",
            "execution_count": 5,
            "metadata": {
                "collapsed": true
            },
            "outputs": [],
            "source": [
                "# SOLUTION BEGINS HERE\n",
                "\n",
                "\n",
                "\n",
                "\n",
                "\n",
                "# SOLUTION ENDS HERE"
            ]
        },
        {
            "cell_type": "markdown",
            "metadata": {
                "nbgrader": {
                    "grade": false,
                    "locked": true,
                    "solution": false
                },
                "editable": false,
                "deletable": false
            },
            "source": [
                "## Question 2. Stock Returns (36 Points Total)\n",
                "\n",
                "- Use the stock datasets below for Quesiton 2.\n",
                "\n",
                "#### `stock_aapl.csv`, `stock_gm.csv`, `stock_tsla.csv`, and `stock_xom.csv` have the following columns:  \n",
                "\n",
                "- **`Date`**: month end date.\n",
                "- **`Close`**: closing price, which was already adjusted for stock split.\n",
                "- **`Dividends`**: dividend in \\$ to shareholders. Not every company gave dividends in sample period. \n",
                "\n",
                "#### `market_gspc.csv`\n",
                " - This dataset represents market return. \n",
                " - **`Date`**: Month end date.\n",
                " - **`return_market`**: simple return for the month.\n",
                " \n",
                "#### **Please note: loading essential libraries like \"PerformanceAnalytics\" might take a few minutes.**"
            ]
        },
        {
            "cell_type": "code",
            "execution_count": 2,
            "metadata": {
                "collapsed": true,
                "nbgrader": {
                    "grade": false,
                    "locked": true,
                    "solution": false
                },
                "editable": false,
                "deletable": false
            },
            "outputs": [],
            "source": [
                "# Read data files\n",
                "ticker_aapl <- read.csv(\"..\/resource\/asnlib\/publicdata\/stock_aapl.csv\", header = TRUE)\n",
                "ticker_gm <- read.csv(\"..\/resource\/asnlib\/publicdata\/stock_gm.csv\", header = TRUE)\n",
                "ticker_tsla <- read.csv(\"..\/resource\/asnlib\/publicdata\/stock_tsla.csv\", header = TRUE)\n",
                "ticker_xom <- read.csv(\"..\/resource\/asnlib\/publicdata\/stock_xom.csv\", header = TRUE)\n",
                "ticker_gspc <- read.csv(\"..\/resource\/asnlib\/publicdata\/market_gspc.csv\", header = TRUE)"
            ]
        },
        {
            "cell_type": "code",
            "execution_count": 3,
            "metadata": {},
            "outputs": [],
            "source": [
                "# Install necessary libraries \n",
                "# After the initial installation, you may comment this block out the second time, and simply load the library without reinstalling it.\n",
                "# Please note: loading essential libraries like \"PerformanceAnalytics\" might take a few minutes.\n",
                "suppressWarnings({\n",
                "install.packages(\"PerformanceAnalytics\", lib=\"..\/work\/\")\n",
                "install.packages(\"xts\", lib=\"..\/work\/\")\n",
                "install.packages(\"lubridate\", lib=\"..\/work\/\")\n",
                "install.packages(\"tidyverse\", lib=\"..\/work\/\")\n",
                "if(!require(data.table)) install.packages(\"data.table\", lib=\"..\/work\/\")})"
            ]
        },
        {
            "cell_type": "code",
            "execution_count": 7,
            "metadata": {
                "nbgrader": {
                    "grade": false,
                    "locked": true,
                    "solution": false
                },
                "editable": false,
                "deletable": false
            },
            "outputs": [],
            "source": [
                "# Load necessary libraries \n",
                "# Please note: loading essential libraries like \"PerformanceAnalytics\" might take a few minutes.\n",
                "library(PerformanceAnalytics, lib.loc=\"..\/work\/\")\n",
                "library(xts, lib.loc=\"..\/work\/\")\n",
                "library(lubridate, lib.loc=\"..\/work\/\")\n",
                "library(tidyverse, lib.loc=\"..\/work\/\")\n",
                "library(data.table, lib.loc=\"..\/work\/\")\n"
            ]
        },
        {
            "cell_type": "markdown",
            "metadata": {
                "nbgrader": {
                    "grade": false,
                    "locked": true,
                    "solution": false
                },
                "editable": false,
                "deletable": false
            },
            "source": [
                "### 2A. Please calculate simple returns of TSLA and XOM stocks for all months of 2015, 2016 and 2017, and report the month and year in which each stock gave its maximum and minimum simpe returen. (8 points):\n",
                "\n",
                "- In case of a tie, report the earliest month.\n",
                "- Do not forget to **remove NA values**.\n",
                "- **Hint:** The `shift()` function may help in calculating simple return, but you are free to choose any method\/function in R.\n",
                "- Here is a quick reference: https:\/\/www.rdocumentation.org\/packages\/data.table\/versions\/1.11.4\/topics\/shift "
            ]
        },
        {
            "cell_type": "code",
            "execution_count": 9,
            "metadata": {
                "collapsed": true
            },
            "outputs": [],
            "source": [
                "# SOLUTION BEGINS HERE\n",
                "# For example: TSLA stock\n",
                "# Converting dates to standard YYYY-MM-DD format\n",
                "# Sorting data by dates\n",
                "\n",
                "\n",
                "\n",
                "\n",
                "# SOLUTION ENDS HERE"
            ]
        },
        {
            "cell_type": "code",
            "execution_count": null,
            "metadata": {
                "collapsed": true
            },
            "outputs": [],
            "source": [
                "# SOLUTION BEGINS HERE\n",
                "# For example: XOM Stock\n",
                "# Converting dates to standard YYYY-MM-DD format\n",
                "# Sorting data by dates\n",
                "\n",
                "\n",
                "\n",
                "\n",
                "# SOLUTION ENDS HERE"
            ]
        },
        {
            "cell_type": "markdown",
            "metadata": {
                "nbgrader": {
                    "grade": false,
                    "locked": true,
                    "solution": false
                },
                "editable": false,
                "deletable": false
            },
            "source": [
                "### 2B. Among the four stocks, which one is the least risky and which one is the most risky based on their standard deviation? (5 points)\n",
                "- For TSLA and XOM, you will need to use the monthly simple returns calculated in 2A. \n",
                "- For AAPL and GM, use `stock_aapl.csv`, `stock_gm.csv` to calculate their returns.\n",
                "- **Note:** you will need to calculate monthly simple returns for AAPL and GM as you did for TSLA and XOM in Q2A.\n",
                "\n"
            ]
        },
        {
            "cell_type": "code",
            "execution_count": 10,
            "metadata": {
                "collapsed": true,
                "nbgrader": {
                    "grade": false,
                    "locked": false,
                    "solution": false
                }
            },
            "outputs": [],
            "source": [
                "# SOLUTION BEGINS HERE\n",
                "\n",
                "\n",
                "\n",
                "\n",
                "\n",
                "# SOLUTION ENDS HERE"
            ]
        },
        {
            "cell_type": "markdown",
            "metadata": {
                "nbgrader": {
                    "grade": false,
                    "locked": true,
                    "solution": false
                },
                "editable": false,
                "deletable": false
            },
            "source": [
                "### 2C. Report average return over the sample period of each stock (4 points):\n",
                "\n",
                "- Report return as percent not in decimals. \n",
                "- Use arithmetic average.  \n",
                "- Round your answers to two decimal places, for example,  X.xx%"
            ]
        },
        {
            "cell_type": "code",
            "execution_count": 11,
            "metadata": {
                "collapsed": true
            },
            "outputs": [],
            "source": [
                "# SOLUTION BEGINS HERE\n",
                "\n",
                "\n",
                "\n",
                "\n",
                "\n",
                "# SOLUTION ENDS HERE"
            ]
        },
        {
            "cell_type": "markdown",
            "metadata": {
                "nbgrader": {
                    "grade": false,
                    "locked": true,
                    "solution": false
                },
                "editable": false,
                "deletable": false
            },
            "source": [
                "### 2D. `AAPL` vs Market (4 points):\n",
                "- Based on the monthly arithmetic average return, has AAPL stock underperformed\/overperformed the market? \n",
                "- By what percentage? \n",
                "- Round your answers to two decimal places, for example, X.xx%  "
            ]
        },
        {
            "cell_type": "code",
            "execution_count": 12,
            "metadata": {
                "collapsed": true
            },
            "outputs": [],
            "source": [
                "# SOLUTION BEGINS HERE\n",
                "\n",
                "\n",
                "\n",
                "\n",
                "\n",
                "# SOLUTION ENDS HERE"
            ]
        },
        {
            "cell_type": "markdown",
            "metadata": {
                "nbgrader": {
                    "grade": false,
                    "locked": true,
                    "solution": false
                },
                "editable": false,
                "deletable": false
            },
            "source": [
                "### 2E. What is the cumulative return of each stock in percent?  (4 points)\n",
                "\n",
                "- Round your answers to two decimal places, for example, X.xx% "
            ]
        },
        {
            "cell_type": "code",
            "execution_count": 13,
            "metadata": {
                "collapsed": true
            },
            "outputs": [],
            "source": [
                "# SOLUTION BEGINS HERE\n",
                "# calculating cumulative return\n",
                "\n",
                "\n",
                "\n",
                "\n",
                "# SOLUTION ENDS HERE"
            ]
        },
        {
            "cell_type": "markdown",
            "metadata": {
                "nbgrader": {
                    "grade": false,
                    "locked": true,
                    "solution": false
                },
                "editable": false,
                "deletable": false
            },
            "source": [
                "### 2F. To determine which stock is the most risky based on beta, we need to look at the beta values for TSLA (Tesla), XOM (ExxonMobil), AAPL (Apple), and GM (General Motors).  Based on beta values, which stock is the most risky: TSLA, XOM, AAPL, or GM?   (6 points)\n",
                "\n",
                "- Comment on the adjusted $R^2$ of this stock. \n",
                "- Do you think this stock is related to overall market?"
            ]
        },
        {
            "cell_type": "code",
            "execution_count": 4,
            "metadata": {
                "collapsed": true
            },
            "outputs": [],
            "source": [
                "#### SOLUTION BEGINS HERE\n",
                "\n",
                "\n",
                "\n",
                "\n",
                "\n",
                "\n",
                "\n",
                "\n",
                "#### SOLUTION ENDS HERE"
            ]
        },
        {
            "cell_type": "markdown",
            "metadata": {
                "nbgrader": {
                    "grade": false,
                    "locked": true,
                    "solution": false
                },
                "editable": false,
                "deletable": false
            },
            "source": [
                "### 2G.  Plot cumulative returns of all four stocks in one graph. (3 points)"
            ]
        },
        {
            "cell_type": "code",
            "execution_count": null,
            "metadata": {
                "collapsed": true
            },
            "outputs": [],
            "source": [
                "# SOLUTION BEGINS HERE\n",
                "# creating a dataframe\n",
                "\n",
                "\n",
                "\n",
                "\n",
                "\n",
                "# chart\n",
                "\n",
                "# SOLUTION ENDS HERE"
            ]
        },
        {
            "cell_type": "markdown",
            "metadata": {
                "nbgrader": {
                    "grade": false,
                    "locked": true,
                    "solution": false
                },
                "editable": false,
                "deletable": false
            },
            "source": [
                "### 2H. Based on top 3 drawdowns, how long was GM stock\u2019s longest recovery time? (2 points)\n",
                "\n",
                "- Use the `table.Drawdown( )` function to find drawdowns for stocks. \n",
                "- Refer to the documentation here: https:\/\/www.rdocumentation.org\/packages\/PerformanceAnalytics\/versions\/2.0.4\/topics\/table.Drawdowns"
            ]
        },
        {
            "cell_type": "code",
            "execution_count": 6,
            "metadata": {
                "collapsed": true
            },
            "outputs": [],
            "source": [
                "# SOLUTION BEGINS HERE\n",
                "## Drawdown (charts & table)\n",
                "\n",
                "\n",
                "\n",
                "\n",
                "# SOLUTION ENDS HERE"
            ]
        }
    ],
    "metadata": {
        "kernelspec": {
            "display_name": "R 4.0.2",
            "language": "R",
            "name": "ir-4.0.2"
        },
        "language_info": {
            "codemirror_mode": "r",
            "file_extension": ".r",
            "mimetype": "text\/x-r-source",
            "name": "R",
            "pygments_lexer": "r",
            "version": "4.0.2"
        }
    },
    "nbformat": 4,
    "nbformat_minor": 2
}