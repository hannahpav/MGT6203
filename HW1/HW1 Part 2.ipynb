{
    "cells": [
        {
            "cell_type": "markdown",
            "metadata": {
                "nbgrader": {
                    "grade": false,
                    "locked": true,
                    "solution": false
                },
                "editable": false,
                "deletable": false
            },
            "source": [
                "# HW1 Part 2 -MGT 6203"
            ]
        },
        {
            "cell_type": "markdown",
            "metadata": {
                "nbgrader": {
                    "grade": false,
                    "locked": true,
                    "solution": false
                },
                "editable": false,
                "deletable": false
            },
            "source": [
                "## Instructions:\n",
                "\n",
                "\n",
                "**For Homework 1 Part 2, please use this Jupyter notebook in Vocareum to submit your solutions.** Vocareum is an educational cloud platform for programming in several languages; it is based on the Jupyter notebook environment. This platform allows us to move homework assignments to the cloud. The advantages are that all of you will be working in the same coding environment AND peer reviewers will be able to run your R code easily. This way we eliminate some issues we might encounter when working on an individual\/local basis, such as library installations and Rstudio OS requirements; Jupyter notebooks work on mobile platforms and tablets.\n",
                "\n",
                "With Jupyter notebooks, you will be learning a new way of presenting data analysis reports, that is neat and flexible, where formatted English text and R code can easily coexist on the same page. Notebooks can be also collaborative when needed. Think of Jupyter notebooks as interactive program-based Google docs or MS-Office 360 docs; these are gradually replacing local files on our computers. **For now, we are asking each of you to do your own homework.**\n",
                "\n",
                "**Many of you are new to the Jupyter notebooks and Vocareum platforms. We will provide TA help in Piazza with specific code if you have questions. ** \n",
                "\n",
                "Here we list some important things to get you started. Please read carefully.\n",
                "\n",
                "\n",
                "\n",
                "<ol>\n",
                "<li>Even though we are moving from your local envrionment to the cloud, **our expectations from your homework will remain the same**. Same goes for the rubrics.<\/li>\n",
                "\n",
                "<li>Vocareum has its own cloud based file system, the data files you will be using for the assignments will be stored in the cloud with path **\"..\/resource\/asnlib\/publicdata\/FILENAME.csv\"**. You will be able to import them with the same method as you do in RStudio, simply substitute the path name to the one specified in the instructions. You won't be able to modify these data files.<\/li>\n",
                "\n",
                "<li>You will be able to find the data files on Canvas\/EdX if you would like to explore them offline.<\/li>\n",
                "\n",
                "<li>**For coding questions, you will be graded on the R code as well as the output** in your submission.<\/li>\n",
                "\n",
                "<li>**For interpretations or short response questions, please type the answers in the notebook's markdown cells**. To change a code cell to a markdown cell, click on the cell, and in the dropdown menu above, switch the type of the cell block from \"code\" to \"markdown\". **Adding print statements to code cells for short response\/interpretation questions is also fine, as long as we can clearly see the output of your response**.<\/li>\n",
                "\n",
                "<li>Optional: if you would like to learn more about how to format your markdown cells, visit the following site: https:\/\/www.earthdatascience.org\/courses\/intro-to-earth-data-science\/file-formats\/use-text-files\/format-text-with-markdown-jupyter-notebook\/. Jupyter notebook also supports LaTeX.<\/li>\n",
                "\n",
                "<li>**Feel free to delete or add as many additional cells as you need**. But please try to keep your notebook clean and keep your solution directly under its respective question to avoid confusion.<\/li>\n",
                "\n",
                "<li>You may delete the `#SOLUTION BEGINS\/ENDS HERE` comments from the cell blocks, they are just pointers that indicate where to put your solutions.<\/li>\n",
                "\n",
                "<li>**When you have finished the assignment, remember to rerun your notebook to check if it runs correctly.** You can do so by going to **`Kernel`-> `Restart & Run All`**. You may lose points if your solutions do not run successfully.<\/li>\n",
                "\n",
                "<li>**Click the \"`Submit`\" button on the top right corner to turn in your assignment**. Your assignment will enter the next phase for peer review.<\/li>\n",
                "\n",
                "<li>**You are allowed a total of <u>2 submissions<\/u> for this assignment.** So make sure that you submit your responses carefully. ** You will be able to come back and resubmit your assignment as long as it is before the start of the peer review period.** <\/li>\n",
                "\n",
                "<li>**Please remember to finish the peer reviews after having submitted your assignment.** You are responsible for grading the work of three of your peers thoroughly, and in addherence to the rubrics. And you will be held accountable for peer grading. **There will be a <u>30% penalty<\/u> to your grade if you fail to complete one or more peer reviews properly.**<\/li>\n",
                "\n",
                "<li>Feel free to address your questions, concerns, and provide any feedback on Piazza. We will continuously try to improve going forward.<\/li>\n",
                "\n",
                "<li>Good Luck!<\/li>\n",
                "\n",
                "<\/ol>\n",
                "\n"
            ]
        },
        {
            "cell_type": "markdown",
            "metadata": {
                "nbgrader": {
                    "grade": false,
                    "locked": true,
                    "solution": false
                },
                "editable": false,
                "deletable": false
            },
            "source": [
                "# About Package Installation:\n",
                "\n",
                "Most of the packages (if not all) that you will need to complete this assignment are already installed in this environment. An easy way to check this is to run the command: `library(PackageName)`. If this command runs successfully then the package was already installed and has been successfully attached to the code. If the command gave an error saying the Package was not found then follow the steps below to successfully install the package and attach it to the code: \n",
                "\n",
                "- Use `installed.packages()` command to return a table of the packages that are preinstalled in the environment.\n",
                "\n",
                "- To attach a preinstalled library in Vocareum, simply use `library(PackageName)`\n",
                "\n",
                "- **To install a package that does not come with the provided environment, please use the following steps:**\n",
                "    \n",
                "<ol>\n",
                "<li>Install your desired package using the following code:<\/li>\n",
                "     <ul>\n",
                "         <li>`install.packages(\"PackageName\", lib=\"..\/work\/\")`<\/li>\n",
                "     <\/ul>\n",
                "<li> Attach the library you just installed using the following code: <\/li>\n",
                "    <ul>\n",
                "        <li>`library(PackageName, lib.loc = \"..\/work\/\")`<\/li>\n",
                "        <li> **NOTE:** Make sure the file location is the same as the above code snippets `(\"..\/work\/\")` <\/li>\n",
                "    <\/ul>\n",
                "<\/ol>"
            ]
        },
        {
            "cell_type": "markdown",
            "metadata": {
                "collapsed": true,
                "nbgrader": {
                    "grade": false,
                    "locked": true,
                    "solution": false
                },
                "editable": false,
                "deletable": false
            },
            "source": [
                "## Question 1. Airbnb (32 points total)\n",
                "\n",
                "Use dataset **`airbnb_data.csv`** for Question 1. The Airbnb dataset provides information about various properties listed on the Airbnb platform. Each row represents a unique property listing. This dataset contains the following variables:\n",
                "\n",
                "- **`room_id`**: A unique identifier for each room listing on Airbnb.\n",
                "- **`survey_id`**: A unique identifier for the survey from which the data was collected. This could be useful for tracking the source of the data.\n",
                "- **`host_id`**: A unique identifier for each host on Airbnb who has listed the property.\n",
                "- **`room_type`**: The type of room being listed, such as 'Entire home\/apt', 'Private room', 'Shared room', etc.\n",
                "- **`city`**: The city where the property is located.\n",
                "- **`reviews`**: The total number of reviews the property has received from guests.\n",
                "- **`overall_satisfaction`**: The overall satisfaction rating of the property, typically on a scale from 1 to 5, as reported by guests.\n",
                "- **`accommodates`**: The maximum number of guests the property can accommodate comfortably.\n",
                "- **`bedrooms`**: The number of bedrooms available in the property.\n",
                "- **`price`**: The price per night for renting the property.\n",
                "\n",
                "Use the code below to load necessary libraries and read the data. "
            ]
        },
        {
            "cell_type": "code",
            "execution_count": 1,
            "metadata": {
                "nbgrader": {
                    "grade": false,
                    "locked": true,
                    "solution": false
                },
                "editable": false,
                "deletable": false
            },
            "outputs": [],
            "source": [
                "library(dplyr)\n",
                "library(ggplot2)\n",
                "\n",
                "# Load the data\n",
                "airbnb_data = read.csv(\"..\/resource\/asnlib\/publicdata\/airbnb_data.csv\",header = TRUE)\n",
                "\n",
                "#  suppress this warning message\n",
                "suppressPackageStartupMessages(library(dplyr))\n",
                "\n",
                "\n",
                "# Change headers to lower case (my personal preference for all analysis)\n",
                "names(airbnb_data) = tolower(names(airbnb_data))\n",
                "\n",
                "# Strip to non-ID fields\n",
                "removeMe = c(\"room_id\", \"survey_id\", \"host_id\", \"city\")\n",
                "myDF = airbnb_data[, -which(names(airbnb_data) %in% removeMe)]\n",
                "\n",
                "# Explore the data\n",
                "str(myDF)\n",
                "summary(myDF)\n",
                "\n",
                "# Update room type as factor\n",
                "myDF$room_type = as.factor(myDF$room_type)"
            ]
        },
        {
            "cell_type": "markdown",
            "metadata": {
                "nbgrader": {
                    "grade": false,
                    "locked": true,
                    "solution": false
                },
                "editable": false,
                "deletable": false
            },
            "source": [
                "### 1A. Fit a multiple linear regression model, and report variables that are statistically significant at the alpha level of 0.01. (6 points)\n",
                "- Now that we have the cleaned dataset (**`myDF`**), fit a multiple linear regression model using **`price`** as the response variable. \n",
                "- Use all variables except for the ID columns and **`city`** (which have already been excluded from **`myDF`**) as predictor variables. \n",
                "- When using categorical variable **`room_type`**, use \"Private room\" as the base case. \n"
            ]
        },
        {
            "cell_type": "code",
            "execution_count": 2,
            "metadata": {
                "collapsed": true,
                "nbgrader": {
                    "grade": false,
                    "locked": false,
                    "solution": false
                }
            },
            "outputs": [],
            "source": [
                "# SOLUTION BEGINS HERE\n",
                "\n",
                "\n",
                "\n",
                "# SOLUTION ENDS HERE"
            ]
        },
        {
            "cell_type": "markdown",
            "metadata": {
                "nbgrader": {
                    "grade": false,
                    "locked": true,
                    "solution": false
                },
                "editable": false,
                "deletable": false
            },
            "source": [
                "### 1B. Interpret the following coefficients: **`Entire home\/apt`** (the dummy variable) and  **`bedrooms`**.  (3 points): \n",
                "\n",
                "- <u> ** Note:<\/u>** In the event a coefficient is not statistically significant in your analysis, please interpret both coefficients as if they were statistically significant.  \n",
                "- Round to two decimals. For example `XX.xx`"
            ]
        },
        {
            "cell_type": "code",
            "execution_count": 3,
            "metadata": {
                "collapsed": true
            },
            "outputs": [],
            "source": [
                "# SOLUTION BEGINS HERE\n",
                "\n",
                "\n",
                "\n",
                "# SOLUTION ENDS HERE"
            ]
        },
        {
            "cell_type": "markdown",
            "metadata": {
                "nbgrader": {
                    "grade": false,
                    "locked": true,
                    "solution": false
                },
                "editable": false,
                "deletable": false
            },
            "source": [
                "### 1C. Make a prediction of **`price`** for a listing.  (6 points)\n",
                "\n",
                "- Assume the listing has the following factors:\n",
                "  <ul>\n",
                "    <li> `bedrooms` = 2\n",
                "    <li> `accommodates` = 4\n",
                "    <li> `reviews` = 50\n",
                "    <li> `overall_satisfaction` = 4\n",
                "    <li> `room_type` = 'Private room'\n",
                "    <\/ul>\n",
                "- Round the prediction to the nearest dollars. "
            ]
        },
        {
            "cell_type": "code",
            "execution_count": 4,
            "metadata": {
                "collapsed": true
            },
            "outputs": [],
            "source": [
                "# SOLUTION BEGINS HERE\n",
                "\n",
                "\n",
                "\n",
                "# SOLUTION ENDS HERE"
            ]
        },
        {
            "cell_type": "markdown",
            "metadata": {
                "nbgrader": {
                    "grade": false,
                    "locked": true,
                    "solution": false
                },
                "editable": false,
                "deletable": false
            },
            "source": [
                "### 1D. Identify and display outliers from using Cook's distance approach.  (6 points):\n",
                "\n",
                "- Remove points having Cook's distance > 1. \n",
                "- Rerun the model after the removal of these points. \n",
                "- Print the summary. "
            ]
        },
        {
            "cell_type": "code",
            "execution_count": 5,
            "metadata": {
                "collapsed": true
            },
            "outputs": [],
            "source": [
                "# SOLUTION BEGINS HERE\n",
                "\n",
                "\n",
                "\n",
                "# SOLUTION ENDS HERE"
            ]
        },
        {
            "cell_type": "markdown",
            "metadata": {
                "nbgrader": {
                    "grade": false,
                    "locked": true,
                    "solution": false
                },
                "editable": false,
                "deletable": false
            },
            "source": [
                "### 1E. Variance Inflation Factor (VIF) Function (3 points):\n",
                "\n",
                "<ul>\n",
                "<li> Using the original dataset, **`myDF`**, **<u>not<\/u>** the one created in 1D:\n",
                "    <ul>\n",
                "    <li> Create another multiple linear regression model by removing **`room_type`** from the **`myDF`** dataset.\n",
                "    <li> Now it should only contain **`price`**, **`reviews`**, **`overall_satisfaction`**, **`accommodates`**, and **`bedrooms`**.\n",
                "    <li> Run the VIF function and calculate the VIF value of the variable, **`accommodates`**.\n",
                "    <\/ul>\n",
                "<li> **Note:** Round to two decimals. Example `XX.xx`\n",
                "<\/ul>"
            ]
        },
        {
            "cell_type": "code",
            "execution_count": 6,
            "metadata": {
                "collapsed": true
            },
            "outputs": [],
            "source": [
                "# SOLUTION BEGINS HERE\n",
                "\n",
                "\n",
                "\n",
                "# SOLUTION ENDS HERE"
            ]
        },
        {
            "cell_type": "markdown",
            "metadata": {
                "nbgrader": {
                    "grade": false,
                    "locked": true,
                    "solution": false
                },
                "editable": false,
                "deletable": false
            },
            "source": [
                "### 1F. Linear\/Log Regression (6 points):\n",
                " \n",
                "<ul>\n",
                "<li> Using the original dataset, **`myDF`**, **<u>not<\/u>** the one created in 1D, use **`price`** as the response variable and **`reviews`** as the predictor variable for the following regression models:\n",
                "    <ul>\n",
                "    <li> Linear-linear\n",
                "    <li> Linear-log\n",
                "    <li> Log-linear\n",
                "    <li> Log-log\n",
                "    <\/ul>\n",
                "<li> **Note:** Because **`reviews`** contains \u20180\u2019 values, you will need to use log(x+1) instead of log(x) transformations.\n",
                "<\/ul>"
            ]
        },
        {
            "cell_type": "code",
            "execution_count": 7,
            "metadata": {
                "collapsed": true
            },
            "outputs": [],
            "source": [
                "# SOLUTION BEGINS HERE\n",
                "\n",
                "\n",
                "\n",
                "# SOLUTION ENDS HERE"
            ]
        },
        {
            "cell_type": "markdown",
            "metadata": {
                "nbgrader": {
                    "grade": false,
                    "locked": true,
                    "solution": false
                },
                "editable": false,
                "deletable": false
            },
            "source": [
                "### 1G. Comparing adjusted $R^2$ (2 points)\n",
                "\n",
                "- Which of the four models has the best adjusted $R^2$?\n",
                "\n",
                "- Discuss how these transformations impact model fit. Does log transforming the variable improve, degrade, or have an uncertain impact on model performance?\n",
                "\n",
                "- Compare the models and their performance with respect to adjusted $R^2$. Are these adjusted $R^2$ values generally good, bad, or uncertain across the four models as a general measure of fit? \n"
            ]
        },
        {
            "cell_type": "code",
            "execution_count": 8,
            "metadata": {
                "collapsed": true
            },
            "outputs": [],
            "source": [
                "# SOLUTION BEGINS HERE\n",
                "\n",
                "\n",
                "\n",
                "# SOLUTION ENDS HERE"
            ]
        },
        {
            "cell_type": "markdown",
            "metadata": {
                "nbgrader": {
                    "grade": false,
                    "locked": true,
                    "solution": false
                },
                "editable": false,
                "deletable": false
            },
            "source": [
                "## Question 2. Direct Marketing. (12 points total)\n",
                "\n",
                "Use the **`direct_marketing.csv`** dataset for the following questions. This dataset contains information related to customers and their interactions with a direct marketing campaign. Each row represents a unique customer, and the dataset includes the following columns:\n",
                "\n",
                "- **`age`**: The age of the customer, indicating their age in years.\n",
                "- **`gender`**: The gender of the customer, with value 'Male' or 'Female'.\n",
                "- **`ownhome`**: A string variable indicating whether the customer owns or rents their home with values 'Own' or 'Rent'.\n",
                "- **`married`**: A string variable indicating whether the customer is married, with values 'Married' or 'Single'.\n",
                "- **`location`**: A string variables indicating distance to the nearest brick and mortar store that sells similar products with possible value 'Far' or 'Close'.\n",
                "- **`salary`**: The annual salary of the customer in dollars.\n",
                "- **`children`**: The number of children the customer has.\n",
                "- **`history`**: A string variable indicating previous purchase volume, possible values include: 'Low', 'High', 'Medium', and 'None'. 'None' means that this customer has not yet purchased before.\n",
                "- **`catalogs`**: The number of catalogs sent to the customer as part of the direct marketing campaign.\n",
                "- **`amountspent`**: The amount of money spent in dollars by the customer in response to the marketing efforts.\n",
                "\n",
                "Use the code below to load necessary libraries and read the data. \n",
                "\n",
                "In the following code cell, we created a dataframe, **`mydm2`** by engineering the following features:\n",
                "\n",
                "<ul>\n",
                "<li> Created indicator variables for the **`history`** column, considering the base case as 'None' in which `history` is neither \"High,\" \"Medium,\" nor \"Low.\" In other words:\n",
                "    <ul>\n",
                "    <li> `Low` = 1 if **`history`** is \"Low\" or else `Low` = 0.\n",
                "    <li> `Medium` = 1 if **`history`** is \"Medium\" or else `Medium` = 0.\n",
                "    <li> `High` = 1 if **`history`** is \"High\" or else `High` = 0.\n",
                "    <\/ul>\n",
                "    \n",
                "<li> Created interaction terms, **`lowsalary`**, **`mediumsalary`**, and **`highsalary`** based on customer **`history`** type and **`salary`**. \n",
                "<\/ul>"
            ]
        },
        {
            "cell_type": "code",
            "execution_count": 9,
            "metadata": {
                "nbgrader": {
                    "grade": false,
                    "locked": true,
                    "solution": false
                },
                "editable": false,
                "deletable": false
            },
            "outputs": [],
            "source": [
                "# Read in the dataframe\n",
                "mydm <- read.csv(\"..\/resource\/asnlib\/publicdata\/direct_marketing.csv\", header = TRUE)\n",
                "\n",
                "# Change headers to lower case (my personal preference for all analysis)\n",
                "names(mydm) = tolower(names(mydm))\n",
                "\n",
                "# create columns per question parameters\n",
                "mydm2 <- mydm %>%\n",
                "    mutate(low = ifelse(history == \"Low\", 1,0)) %>%\n",
                "    mutate(medium = ifelse(history == \"Medium\", 1,0)) %>%\n",
                "    mutate(high = ifelse(history == \"High\", 1,0)) %>%\n",
                "    mutate(lowsalary = salary * low) %>%\n",
                "    mutate(mediumsalary = salary * medium) %>%\n",
                "    mutate(highsalary = salary * high)\n",
                "\n",
                "summary(mydm2)"
            ]
        },
        {
            "cell_type": "markdown",
            "metadata": {
                "nbgrader": {
                    "grade": false,
                    "locked": true,
                    "solution": false
                },
                "editable": false,
                "deletable": false
            },
            "source": [
                "### 2A. Fitting a Multiple Linear Regression Model (6 points):\n",
                "\n",
                "- Fit a multiple linear regression model using **`amountspent`** as the response variable and predictor variables:  **`age`**, **`ownhome`**, **`salary`**, **`low`**, **`medium`**, **`high`**, **`lowsalary`**, **`mediumsalary`**, **`highsalary`**.\n",
                "- Print the summary"
            ]
        },
        {
            "cell_type": "code",
            "execution_count": 10,
            "metadata": {
                "collapsed": true
            },
            "outputs": [],
            "source": [
                "# SOLUTION BEGINS HERE\n",
                "\n",
                "\n",
                "\n",
                "# SOLUTION ENDS HERE"
            ]
        },
        {
            "cell_type": "markdown",
            "metadata": {
                "nbgrader": {
                    "grade": false,
                    "locked": true,
                    "solution": false
                },
                "editable": false,
                "deletable": false
            },
            "source": [
                "### 2B. Making a Prediction (6 points):\n",
                "\n",
                "- Based on the model constructed in part 2A, what is the predicted *amountspent* by a middle age renting customer for each **`history`** type (None, Low, Medium, and High) provided their **`salary`** is \\$75,000?\n",
                "\n",
                "- **Note:**  Ignore significance for this exercise; round to nearest dollar.\n"
            ]
        },
        {
            "cell_type": "code",
            "execution_count": 11,
            "metadata": {
                "collapsed": true
            },
            "outputs": [],
            "source": [
                "# SOLUTION BEGINS HERE\n",
                "\n",
                "\n",
                "\n",
                "# SOLUTION ENDS HERE"
            ]
        },
        {
            "cell_type": "markdown",
            "metadata": {
                "nbgrader": {
                    "grade": false,
                    "locked": true,
                    "solution": false
                },
                "editable": false,
                "deletable": false
            },
            "source": [
                "## Q3 Titanic Survival (16 points total)\n",
                "\n",
                "The goal of this problem is to predict the survival of passengers on titanic. Use **`TitanicSurvival`** dataset for the following questions, this dataset comes with R packages 'car'. It has the following variables:\n",
                "\n",
                "- **`survived`**: The binary viariable indicating if the passenger survived with value 1 indicating survived and 0 indicating not survived.\n",
                "- **`sex`**: The gender of the passenger, possible values: 'female', 'male'.\n",
                "- **`age`**: Age of the passengers in years (and for some children, fractions of a year); age is missing (NA) for 263 of the passengers.\n",
                "- **`passengerclass`**: Indicating the class of the passenger, possible value: '1st','2nd','3rd'.\n",
                "\n",
                "Use the following code to read the data."
            ]
        },
        {
            "cell_type": "code",
            "execution_count": 12,
            "metadata": {
                "nbgrader": {
                    "grade": false,
                    "locked": true,
                    "solution": false
                },
                "editable": false,
                "deletable": false
            },
            "outputs": [],
            "source": [
                "# Load library if needed\n",
                "if (!require(car)) install.packages(\"car\")\n",
                "library(car)\n",
                "\n",
                "# Load the data\n",
                "data(\"TitanicSurvival\")\n",
                "\n",
                "# Change headers to lower case (my personal preference for all analysis)\n",
                "names(TitanicSurvival) = tolower(names(TitanicSurvival))\n",
                "\n",
                "# Update the survived values to 1 for yes and 0 for no.  \n",
                "TitanicSurvival$survived = \n",
                "  ifelse(TitanicSurvival$survived == \"yes\",1,0)\n",
                "\n",
                "# Explore the data\n",
                "str(TitanicSurvival)\n",
                "summary(TitanicSurvival)"
            ]
        },
        {
            "cell_type": "markdown",
            "metadata": {
                "nbgrader": {
                    "grade": false,
                    "locked": true,
                    "solution": false
                },
                "editable": false,
                "deletable": false
            },
            "source": [
                "### 3A. Logistic Regression on Titanic (3 points): \n",
                "\n",
                "- Using the Titanic dataset created above (**`TitanicSurvival`**), perform a logistic regression on the dataset.\n",
                "- Use **`survived`** as the response and **`sex`** as the explanatory variable. \n",
                "- Display the model summary. \n",
                "- What does the value of the intercept coefficient represent in this model?"
            ]
        },
        {
            "cell_type": "code",
            "execution_count": 13,
            "metadata": {
                "collapsed": true
            },
            "outputs": [],
            "source": [
                "# SOLUTION BEGINS HERE\n",
                "\n",
                "\n",
                "\n",
                "# SOLUTION ENDS HERE"
            ]
        },
        {
            "cell_type": "markdown",
            "metadata": {
                "nbgrader": {
                    "grade": false,
                    "locked": true,
                    "solution": false
                },
                "editable": false,
                "deletable": false
            },
            "source": [
                "### 3B. Determine the odds of survival for females (3 points):\n",
                "\n",
                "- **Note:**  Round to three decimals.  Example, `XX.xxx`"
            ]
        },
        {
            "cell_type": "code",
            "execution_count": 14,
            "metadata": {
                "collapsed": true
            },
            "outputs": [],
            "source": [
                "# SOLUTION BEGINS HERE\n",
                "\n",
                "\n",
                "\n",
                "# SOLUTION ENDS HERE"
            ]
        },
        {
            "cell_type": "markdown",
            "metadata": {
                "nbgrader": {
                    "grade": false,
                    "locked": true,
                    "solution": false
                },
                "editable": false,
                "deletable": false
            },
            "source": [
                "### 3C. Determine the probability of survival for males (3 points):\n",
                "\n",
                "- **Note:**  Round to three decimals. Example, XX.xxx"
            ]
        },
        {
            "cell_type": "code",
            "execution_count": 15,
            "metadata": {
                "collapsed": true
            },
            "outputs": [],
            "source": [
                "# SOLUTION BEGINS HERE\n",
                "\n",
                "\n",
                "\n",
                "# SOLUTION ENDS HERE"
            ]
        },
        {
            "cell_type": "markdown",
            "metadata": {
                "nbgrader": {
                    "grade": false,
                    "locked": true,
                    "solution": false
                },
                "editable": false,
                "deletable": false
            },
            "source": [
                "### 3D. Logistic Regression Indicator Variables (7 points):\n",
                "\n",
                "<ul>\n",
                "<li> Create indicator variables for the variable, **`passengerclass`**.\n",
                "\n",
                "    <ul>\n",
                "    <li> Treat **`passengerclass`**= \"3rd\" as the base case.\n",
                "    <li> Therefore, `first_class` = 1 if `passengerclass` is \"1st\" or else 0.\n",
                "    <li> `second_class` = 1 if `passengerclass` is \"2nd\" or else 0.\n",
                "    <\/ul>\n",
                "    \n",
                "<li> Create a logistic regression model with the variable, **`survived`**, as the response variable and the indicator variables created for **`passengerclass`** as the independent model variables.\n",
                "<li> Using this model, calculate the probability of survival for the passengers in **all 3 classes.**\n",
                "<li> **Note:**  Round to three decimals.  Example, `XX.xxx`\n",
                "<\/ul>"
            ]
        },
        {
            "cell_type": "code",
            "execution_count": 16,
            "metadata": {
                "collapsed": true
            },
            "outputs": [],
            "source": [
                "# SOLUTION BEGINS HERE\n",
                "\n",
                "\n",
                "\n",
                "# SOLUTION ENDS HERE"
            ]
        }
    ],
    "metadata": {
        "kernelspec": {
            "display_name": "R 4.0.2",
            "language": "R",
            "name": "ir-4.0.2"
        },
        "language_info": {
            "codemirror_mode": "r",
            "file_extension": ".r",
            "mimetype": "text\/x-r-source",
            "name": "R",
            "pygments_lexer": "r",
            "version": "4.0.2"
        }
    },
    "nbformat": 4,
    "nbformat_minor": 2
}